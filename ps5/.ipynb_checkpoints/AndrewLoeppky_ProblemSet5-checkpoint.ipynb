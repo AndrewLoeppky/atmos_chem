{
 "cells": [
  {
   "cell_type": "markdown",
   "metadata": {},
   "source": [
    "# Andrew Loeppky\n",
    "\n",
    "## CHEM 535a\n",
    "\n",
    "## Problem Set 5"
   ]
  },
  {
   "cell_type": "markdown",
   "metadata": {},
   "source": [
    "**Seinfeld 17.4)** \n",
    "\n",
    "You dissolve 5g of NaCl in a glass containing 200cm$^3$ of water. The glass is in a room with constant temperature equal to 20$^o$C and relative humidity 80%. Calculate the volume of water that will be left in the glass after several days of residence in this environment. Repeat the calculation for a relative humidity of 95%."
   ]
  },
  {
   "cell_type": "markdown",
   "metadata": {},
   "source": [
    "Assuming the air right next to the surface is saturated, and only water molecules evaporate (the absolute amount of salt stays constant at 5g), we can calculate the amount of water left after the system equilibriates. Given the relative humidity in the room, the vapour pressure in the air is \n",
    "\n",
    "$$e_{room} = RH\\cdot e_s$$\n",
    "\n",
    "Seinfeld 17.9 (Rault's law) for the vapor pressure over a solution\n",
    "\n",
    "$$\n",
    "e_{s,soln} = x_we_s^0 \\tag{Seinfeld 17.9}\n",
    "$$\n",
    "\n",
    "where $x_w$ is the mole fraction:\n",
    "\n",
    "$$\n",
    "x_w = \\frac{n_w}{n_w + n_s} \\tag{Seinfeld 17.7}\n",
    "$$\n",
    "\n",
    "Set $e_{room} = e_{s,soln}$ and combine these expressions to solve for the amount of water $n_w$ left at equilbrium\n",
    "\n",
    "$$\n",
    "RH \\cdot e_s = x_we_s^0\n",
    "$$\n",
    "\n",
    "$$\n",
    "RH = \\frac{n_w}{n_w + n_s}\n",
    "$$\n",
    "\n",
    "$$\n",
    "RH = \\frac{1}{1 + \\frac{n_s}{n_w}}\n",
    "$$\n",
    "\n",
    "$$\n",
    "\\frac{n_s}{n_w} = \\frac{1}{RH} - 1\n",
    "$$\n",
    "\n",
    "$$\n",
    "\\boxed{n_w = \\frac{n_s}{\\frac{1}{RH} - 1}}\n",
    "$$\n",
    "\n",
    "The molar mass of NaCl is 58.44gmol$^{-1}$, so 5g of salt is:\n",
    "\n",
    "$$\n",
    "5g \\cdot \\frac{mol}{58.44g} = 0.08556 mol\n",
    "$$\n",
    "\n",
    "But since it's an ideal solution, we assume it completely dissociates into Na$^+$ and Cl$^-$, so multiply by a factor of 2. How much water is left at 80% RH?\n",
    "\n",
    "$$\n",
    "\\frac{0.08556\\cdot 2}{\\frac{1}{0.8} - 1} = 0.6845 mol \\rightarrow \\times 18.02mLmol^{-1} = \\boxed{12.3 mL}\n",
    "$$\n",
    "\n",
    "or at 95% humidity:\n",
    "\n",
    "$$\n",
    "\\frac{0.08556\\cdot 2}{\\frac{1}{0.95} - 1} \\cdot 18.02 = \\boxed{58.6 mL}\n",
    "$$\n",
    "\n",
    "\n"
   ]
  },
  {
   "cell_type": "markdown",
   "metadata": {},
   "source": [
    "**Seinfeld 17.10a)**\n",
    "\n",
    "Dry activation diameters of roughly 0.5 𝜇𝑚 have been observed in fogs in urban areas. If the particles consisted entirely of (NH$_4$)$_2$SO$_4$, what would be the maximum supersaturation inside the fog layer?"
   ]
  },
  {
   "cell_type": "markdown",
   "metadata": {},
   "source": [
    "Use Seinfeld 17.26 to find the critical saturation (maximum saturation, above which all particles will grow indefinitely and consume available water vapor)\n",
    "\n",
    "$$\n",
    "ln(S_c) = \\left(\\frac{4A^3\\rho_wM_s}{27\\nu\\rho_sM_wd_s^3}\\right)^{\\frac{1}{2}}\\tag{17.26}\n",
    "$$\n",
    "\n",
    "where $A$ is defined as\n",
    "\n",
    "$$\n",
    "A = \\frac{4M_w\\sigma_w}{RT\\rho_w}\n",
    "$$\n",
    "\n",
    "sub in to obtain:\n",
    "\n",
    "$$\n",
    "S_c = exp\\left(\\left(\\frac{256M_w^2\\sigma^3M_s}{27R^3T^3\\rho_w^2\\nu\\rho_sd_s^3}\\right)^{1/2}\\right)\n",
    "$$\n",
    "\n",
    "Plug in $T=273K$, $\\rho_w=1000kg/m^3$, $\\sigma_w = 7.56\\cdot 10^{-2}$, $M_s =  0.1321 kg/mol$, $\\nu=3$, $\\rho_s = 1770kg/m^3$, $M_w = 0.0182kg/mol$, $d_s=5\\cdot10^{-7}m$"
   ]
  },
  {
   "cell_type": "code",
   "execution_count": 6,
   "metadata": {},
   "outputs": [
    {
     "data": {
      "text/plain": [
       "0.01519901084565678"
      ]
     },
     "execution_count": 6,
     "metadata": {},
     "output_type": "execute_result"
    }
   ],
   "source": [
    "import numpy as np\n",
    "\n",
    "T = 273  # K\n",
    "pw = 1000  # kg/m3\n",
    "sig = 7.56e-2  # N/m\n",
    "Ms = 0.1321  # kg/mol\n",
    "nu = 3\n",
    "ps = 1770  # kg/m3\n",
    "Mw = 0.0182  # kg/mol\n",
    "ds = 5e-7  # m\n",
    "\n",
    "Sc = np.exp(\n",
    "    (\n",
    "        (256 * Mw ** 2 * sig ** 3 * Ms)\n",
    "        / (27 * R ** 3 * T ** 3 * pw ** 2 * nu * ps * ds ** 3)\n",
    "    )\n",
    "    ** 0.5\n",
    ")\n",
    "sc = (Sc - 1) * 100\n",
    "sc"
   ]
  },
  {
   "cell_type": "markdown",
   "metadata": {},
   "source": [
    "The maximum supersaturation in the fog layer is 0.015%"
   ]
  },
  {
   "cell_type": "markdown",
   "metadata": {},
   "source": [
    "**Also,**\n",
    "\n",
    "Calculate the activation diameter at 0.3% supersaturation for particles consisting of (NH$_4$)$_2$SO$_4$. Assume (NH$_4$)$_2$SO$_4$ dissociates completely into (NH$_4^+$) and SO$_4^{2-}$\n",
    "\n",
    "Just invert 17.26 to solve for $d_s$\n",
    "\n",
    "$$\n",
    "d_s = \\left(\\frac{1}{ln(S_c)^2}\\left(\\frac{256M_w^2\\sigma^3M_s}{27R^3T^3\\rho_w^2\\nu\\rho_s}\\right)\\right)^\\frac{1}{3}\n",
    "$$\n"
   ]
  },
  {
   "cell_type": "code",
   "execution_count": 9,
   "metadata": {},
   "outputs": [
    {
     "data": {
      "text/plain": [
       "9.877977006519288e-09"
      ]
     },
     "execution_count": 9,
     "metadata": {},
     "output_type": "execute_result"
    }
   ],
   "source": [
    "ds = ((1 / np.log(1.003)) * (256 * Mw ** 2 * sig ** 3 * Ms) / (27 * R ** 3 * T ** 3 * pw ** 2 * nu * ps)) ** (1 / 3)\n",
    "ds"
   ]
  },
  {
   "cell_type": "markdown",
   "metadata": {},
   "source": [
    "The activation diameter for (NH$_4$)$_2$SO$_4$ at 0.3% supersaturation is 9.9nm"
   ]
  }
 ],
 "metadata": {
  "kernelspec": {
   "display_name": "Python 3",
   "language": "python",
   "name": "python3"
  },
  "language_info": {
   "codemirror_mode": {
    "name": "ipython",
    "version": 3
   },
   "file_extension": ".py",
   "mimetype": "text/x-python",
   "name": "python",
   "nbconvert_exporter": "python",
   "pygments_lexer": "ipython3",
   "version": "3.7.9"
  }
 },
 "nbformat": 4,
 "nbformat_minor": 4
}
