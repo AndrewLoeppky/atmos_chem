{
 "cells": [
  {
   "cell_type": "markdown",
   "metadata": {},
   "source": [
    "# Problem Set 3\n",
    "\n",
    "## Andrew Loeppky\n",
    "\n",
    "## CHEM 535a"
   ]
  },
  {
   "cell_type": "markdown",
   "metadata": {},
   "source": [
    "### 9.2b) \n",
    "**A unit density sphere of diameter 1μm moves through air with a velocity of 25 cm/s. Compute the drag force offered by the air.**\n",
    "\n",
    "First calculate the Reynolds number to see which flow regime this particle occupies:\n",
    "\n",
    "$$\n",
    "Re = \\frac{\\rho u_\\infty D_p }{\\mu}\n",
    "$$\n",
    "\n",
    "$$\n",
    "= \\frac{(1kg/m^3)(0.25m/s)(10^{-6}m)}{(1.802\\cdot 10^{-5}kg/m/s)} = 0.014\n",
    "$$ \n",
    "\n",
    "With $Re << 1$, we can assume Stokes flow, and include the slip correction factor $C_c$ since the particle is less than 10$\\mu m$ in diameter:\n",
    "\n",
    "$$\n",
    "F_{drag} = \\frac{3\\pi\\mu u_\\infty D_p}{C_c}\\tag{9.33}\n",
    "$$\n",
    "\n",
    "with\n",
    "\n",
    "$$\n",
    "C_c = 1 + \\frac{2\\lambda}{D_p}\\left[1.257 + 0.4exp\\left(\\frac{-1.1D_p}{2\\lambda}\\right)\\right]\\tag{9.34}\n",
    "$$\n",
    "\n",
    "taking $\\lambda = 0.06\\mu m$ (Seinfeld figure 9.3, alt=0km), we can calculate $C_c$ to be:\n",
    "\n",
    "$$\n",
    "C_c = 1 + \\frac{2 (6\\cdot 10^{-8}m)}{(10^{-6}m)}\\left[1.257 + 0.4exp\\left(\\frac{-1.1(10^{-6}m)}{2(6\\cdot 10^{-8}m)}\\right)\\right] = 1.1508...\n",
    "$$\n",
    "\n",
    "Now use 9.33 to calculate $F_{drag}$\n",
    "\n",
    "$$\n",
    "F_{drag} = \\frac{3\\pi (1.802\\cdot 10^{-5}kg/m/s)(0.25m/s)(10^{-6}m)}{1.15084} = \\boxed{3.69\\cdot 10^{-11}kg\\cdot m/s^2}\n",
    "$$"
   ]
  },
  {
   "cell_type": "markdown",
   "metadata": {},
   "source": [
    "### 9.3)\n",
    "**Calculate the terminal settling velocities of silica particles (ρ$_p$=2.65g/cm^3) of 0.05, 0.1, 0.5, and 1.0μm diameters.**\n",
    "\n",
    "Terminal velocity is when the gravitational force pulling the particle down matches the drag force pushing it up:\n",
    "\n",
    "$$\n",
    "F_g = F_d\n",
    "$$\n",
    "\n",
    "where $F_g = mg$ the mass of the particle times earth's gravitational constant (let's assume the particle is near the ground and $g=9.81m/s^2$). Given the density and diameter of a spherical particle, we can calculate $F_g$ to be:\n",
    "\n",
    "$$\n",
    "F_g = \\rho g\\frac{4}{3}\\pi\\left(\\frac{D_p}{2}\\right)^3\n",
    "$$\n",
    "\n",
    "We can re-arrange 9.33 from the previous question to solve for $u_\\infty$, subbing $F_g$ in place of $F_d$:\n",
    "\n",
    "$$\n",
    "u_\\infty = \\frac{F_g C_c}{3\\pi\\mu D_p}\n",
    "$$\n",
    "\n",
    "Implement these equations in *Python*:"
   ]
  },
  {
   "cell_type": "code",
   "execution_count": 1,
   "metadata": {},
   "outputs": [
    {
     "name": "stdout",
     "output_type": "stream",
     "text": [
      "     Dp      |  u_infty\n",
      "-----------------------------------------\n",
      "    0.05 um  |    9.264685814911195e-07 m/s\n",
      "    0.1 um  |    2.164233337612664e-06 m/s\n",
      "    0.5 um  |    2.6101115834476508e-05 m/s\n",
      "    1.0 um  |    9.223684305617685e-05 m/s\n"
     ]
    }
   ],
   "source": [
    "import numpy as np\n",
    "from matplotlib import pyplot as plt\n",
    "\n",
    "def get_cunningham(Dp):\n",
    "    \"\"\"\n",
    "    returns the cunningham correction factor given a particle diameter (um)\n",
    "    \"\"\"\n",
    "    Dp *= 1e-6  # convert to meters\n",
    "    mfp = 6e-8  # mean free path (m) of air at sea level\n",
    "    C = 1 + (2 * mfp / Dp) * (1.257 + 0.4 * np.exp(-1.1 * Dp / (2 * mfp)))  # eq 9.34\n",
    "    return C\n",
    "\n",
    "\n",
    "def get_Fg(rho, Dp):\n",
    "    \"\"\"\n",
    "    returns gravitational force given particle density rho (kg/m3) and diameter Dp (um)\n",
    "    \"\"\"\n",
    "    Dp *= 1e-6\n",
    "    Fg = rho * 9.81 * 4 / 3 * np.pi * (Dp / 2) ** 3\n",
    "    return Fg\n",
    "\n",
    "\n",
    "def get_u_infty(rho, Dp):\n",
    "    \"\"\"\n",
    "    returns the terminal settling velocity of a particle with density rho (kg/m3) and diameter Dp (um)\n",
    "    \"\"\"\n",
    "    mu = 1.802e-5  # viscosity of air kg/m/s\n",
    "    u_infty = get_Fg(rho, Dp) * get_cunningham(Dp) / (3 * np.pi * mu * Dp * 1e-6)\n",
    "    return u_infty\n",
    "\n",
    "\n",
    "# solve for the silica particles described:\n",
    "rho = 2.65  # g/cm3\n",
    "rho *= 1000  # kg/m3\n",
    "diameters = (0.05, 0.1, 0.5, 1.0)  # um\n",
    "\n",
    "print(\"     Dp      |  u_infty\")\n",
    "print(\"-----------------------------------------\")\n",
    "for Dp in diameters:\n",
    "    print(f\"    {Dp} um  |    {get_u_infty(rho, Dp)} m/s\")"
   ]
  },
  {
   "cell_type": "markdown",
   "metadata": {},
   "source": [
    "### 9.6)\n",
    "**What is the stop distance of a spherical particle of 1μm diameter and density 1.5g/cm^3 moving in still air at 298K with a velocity of 1m/s?**\n",
    "\n",
    "Solve this with Seinfeld 9.38 (particle relaxation time) and 9.98 (stopping distance)\n",
    "\n",
    "$$\n",
    "\\tau = \\frac{m_pC_c}{3\\pi\\mu D_p}\\tag{9.38}\n",
    "$$\n",
    "\n",
    "$$\n",
    "s_p = \\tau U\\tag{9.98}\n",
    "$$\n",
    "\n",
    "Putting them together yields:\n",
    "\n",
    "$$\n",
    "s_p = \\frac{m_pC_c}{3\\pi\\mu D_p} U\n",
    "$$\n",
    "\n",
    "Get $m_p$ and $C_c$, using equations derived above:\n",
    "\n",
    "$$\n",
    "m_p = \\rho\\frac{4}{3}\\pi\\left(\\frac{D_p}{2}\\right)^3 = 1.5g/cm^3\\cdot\\frac{1000kg/m^3}{g/cm^3}\\cdot\\frac{4}{3}\\pi\\left(\\frac{10^{-6}m}{2}\\right)^3 = 7.854\\cdot 10^{-16}kg\n",
    "$$"
   ]
  },
  {
   "cell_type": "code",
   "execution_count": 2,
   "metadata": {},
   "outputs": [
    {
     "name": "stdout",
     "output_type": "stream",
     "text": [
      "1.150845014278904\n"
     ]
    }
   ],
   "source": [
    "# re-use the cunningham factor calculator from the previous question\n",
    "print(get_cunningham(1))"
   ]
  },
  {
   "cell_type": "markdown",
   "metadata": {},
   "source": [
    "Plug in and obtain $s_p$:\n",
    "\n",
    "$$\n",
    "s_p = \\frac{(7.854\\cdot 10^{-16}kg)(1.1508)}{3\\pi(1.802\\cdot 10^{-5}kg/m/s)(10^{-6}m)}(1m/s) = \\boxed{5.32\\mu m}\n",
    "$$"
   ]
  },
  {
   "cell_type": "markdown",
   "metadata": {},
   "source": [
    "### 9.7b)\n",
    "**A 0.2μm diameter particle of density 1g/cm^3 is being carried by an airstream at 1 atm and 298K in the y-direction with a velocity of 100cm/s. The particle enters a charging device and acquires a\n",
    "charge of two electrons (the charge of a single electron is 1.6×10^-19C) and moves into an electric field of constant potential gradient $E_x$=1000V/cm perpendicular to the direction of flow.**\n",
    "\n",
    "**Determine the particle trajectory, assuming that it starts at the origin at time zero.**\n",
    "\n",
    "I was curious in class but never asked.. when is it appropriate to neglect the particle's momentum and assume the motion is only due to viscous drag? I'll try it here both ways because its interesting.\n",
    "\n",
    "**Case 1: only electric field and stokes/cunningham drag**\n",
    "\n",
    "Motion in the y-direction should be constant (applies to both cases), we assume the particle is at rest with respect to the flow at $t=0,(x,y)=(0,0)$, so velocity $v_y = 100cm/s$. In the x-direction, motion is similar to the terminal velocity calculations above, but drag has to balance the force applied by the electric field instead of gravity (which we are ignoring altogether). Lets imagine the electric field points from *right to left*, so a *negatively* charged particle will move *right*.\n",
    "```\n",
    "                                                 Fd <---O---> qE\n",
    "```\n",
    "$\n",
    "F_d = qE\n",
    "$\n",
    "\n",
    "$\n",
    "q = 3.2\\cdot 10^{-19}C\n",
    "$\n",
    "\n",
    "$\n",
    "E = 10^5 V/m\n",
    "$\n",
    "\n",
    "Re-arrange 9.33 for $u_\\infty$\n",
    "\n",
    "$$\n",
    "u_\\infty = \\frac{qEC_c}{3\\pi\\mu D_p} = v_x\n",
    "$$"
   ]
  },
  {
   "cell_type": "code",
   "execution_count": 4,
   "metadata": {},
   "outputs": [
    {
     "name": "stdout",
     "output_type": "stream",
     "text": [
      "Calculated cunningham correction : 1.7925711390591266\n"
     ]
    }
   ],
   "source": [
    "# initialize variables\n",
    "var1 = {\n",
    "    \"Dp\": 0.2,  # um\n",
    "    \"mu\": 1.802e-5,  # kg/m/s\n",
    "    \"q\": 3.2e-19,  # C\n",
    "    \"E\": 1e5,  # V/m\n",
    "    \"Cc\": get_cunningham(0.2),\n",
    "}\n",
    "print(f\"Calculated cunningham correction : {var1['Cc']}\")"
   ]
  },
  {
   "cell_type": "code",
   "execution_count": 5,
   "metadata": {},
   "outputs": [
    {
     "name": "stdout",
     "output_type": "stream",
     "text": [
      "Steady velocity in electric field: 0.0016887698564565553 m/s\n"
     ]
    }
   ],
   "source": [
    "def get_u_infty(Dp=None,mu=None,q=None,E=None,Cc=None):\n",
    "    \"\"\"\n",
    "    Solves 9.33 for steady state velocity in an electric field.\n",
    "    Dp=micrometers, all other vars SI units\n",
    "    \"\"\"\n",
    "    Dp *= 1e-6\n",
    "    u_infty = q * E * Cc / (3 * np.pi * mu * Dp)\n",
    "    return u_infty\n",
    "\n",
    "print(f\"Steady velocity in electric field: {get_u_infty(**var1)} m/s\")"
   ]
  },
  {
   "cell_type": "markdown",
   "metadata": {},
   "source": [
    "Now integrate over $t$ to get $(x,y)$ from $(v_x,v_y)$:\n",
    "\n",
    "$$\n",
    "x(t) = \\frac{qEC_c}{3\\pi\\mu D_p}t = v_xt\n",
    "$$\n",
    "\n",
    "$$\n",
    "y(t) = v_yt\n",
    "$$\n",
    "\n",
    "Plot the particle trajectory:"
   ]
  },
  {
   "cell_type": "code",
   "execution_count": 13,
   "metadata": {},
   "outputs": [
    {
     "data": {
      "image/png": "[encoded data removed]",
      "text/plain": [
       "<Figure size 432x288 with 1 Axes>"
      ]
     },
     "metadata": {
      "needs_background": "light"
     },
     "output_type": "display_data"
    }
   ],
   "source": [
    "t = np.linspace(0, 5, 100)  # 5 seconds\n",
    "m_to_cm = 100\n",
    "vx1 = get_u_infty(**var1)  # x velocity m/s\n",
    "x1 = vx1 * t * m_to_cm  # x position\n",
    "\n",
    "vy1 = 1.0  # y velocity m/s\n",
    "y1 = vy1 * t * m_to_cm  # y position  cm\n",
    "\n",
    "plt.plot(x1, y1)\n",
    "plt.xlabel(\"x (cm)\")\n",
    "plt.ylabel(\"y (cm)\")\n",
    "plt.title(\"Trajectory of 0.2 $um$ Particle in 1000 $V/m$ Electric Field\");"
   ]
  },
  {
   "cell_type": "markdown",
   "metadata": {},
   "source": [
    "**Case 2: solve the full equation of motion for the particle**\n",
    "\n",
    "This time, the x position of the particle is given by:\n",
    "\n",
    "$$\n",
    "x(t) = \\frac{1}{m_p}\\int\\int\\vec{F}_{net}\\cdot dt^2\\tag{equation of motion}\n",
    "$$\n",
    "\n",
    "Particle mass $m_p$ is constant, as is the force provided by the electric field, but now $F_d$ is proportional to the instantaneous velocity at time $t$. \n",
    "\n",
    "$$\n",
    "\\vec{F}_{net} = qE - \\frac{3\\pi\\mu D_p}{C_c}v_x\n",
    "$$\n",
    "\n",
    "re-write as a linear differential equation in $x$:\n",
    "\n",
    "$$\n",
    "\\frac{d^2x}{dt^2} + \\left(\\frac{3\\pi\\mu D_p}{m_pC_c}\\right)\\frac{dx}{dt} - \\left(\\frac{qE}{m_p}\\right)= 0\n",
    "$$\n"
   ]
  },
  {
   "cell_type": "markdown",
   "metadata": {},
   "source": [
    "### 9.7c)\n",
    "**Repeat the calculation for a 50nm diameter particle.**"
   ]
  },
  {
   "cell_type": "markdown",
   "metadata": {},
   "source": [
    "**Calculate the terminal settling velocities of 0.001, 0.1, and 1 μm diameter water droplets in air at a pressure of 0.1 atm**"
   ]
  }
 ],
 "metadata": {
  "kernelspec": {
   "display_name": "Python 3",
   "language": "python",
   "name": "python3"
  },
  "language_info": {
   "codemirror_mode": {
    "name": "ipython",
    "version": 3
   },
   "file_extension": ".py",
   "mimetype": "text/x-python",
   "name": "python",
   "nbconvert_exporter": "python",
   "pygments_lexer": "ipython3",
   "version": "3.7.8"
  }
 },
 "nbformat": 4,
 "nbformat_minor": 4
}
